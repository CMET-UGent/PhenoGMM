{
 "cells": [
  {
   "cell_type": "markdown",
   "metadata": {},
   "source": [
    "Load required packages: "
   ]
  },
  {
   "cell_type": "code",
   "execution_count": 1,
   "metadata": {},
   "outputs": [],
   "source": [
    "import matplotlib.pyplot as plt\n",
    "import numpy as np\n",
    "import pandas as pd\n",
    "import seaborn as sns\n",
    "\n",
    "from scipy import stats\n",
    "\n",
    "from sklearn.metrics import pairwise_distances, r2_score\n",
    "from sklearn.model_selection import cross_val_predict\n",
    "\n",
    "from functions_rw import calc_D0, calc_D1, calc_D2\n",
    "from functions_rw import concat_df\n",
    "from functions_rw import get_gmm_fitted, get_fcfp_gmm_rw\n",
    "from functions_rw import get_binning_grid, get_fcfp_binning_grid_rw\n",
    "from functions_rw import get_nonzero_features\n",
    "from functions_rw import get_KFold, get_trained_RF\n",
    "from functions_rw import mantel_test\n",
    "from functions_rw import transform\n",
    "\n",
    "from os import listdir     "
   ]
  },
  {
   "cell_type": "markdown",
   "metadata": {},
   "source": [
    "Initialize metavariables: "
   ]
  },
  {
   "cell_type": "code",
   "execution_count": 2,
   "metadata": {},
   "outputs": [],
   "source": [
    "''' Metavariables '''\n",
    "np.random.seed(np.int(2703))\n",
    "PATH_DATA = '../Data/Cycles/'\n",
    "FILENAMES = sorted(listdir(PATH_DATA))\n",
    "MIN_SAMPLES_LEAF = 5 \n",
    "N_ITER = 10\n",
    "\n",
    "N_REP = 3\n",
    "N_TREES = 200#[10,100,200,400,600,800,1000][2]\n",
    "TYPE = 'full'#['full','tied','diag','spherical'][0]\n",
    "N_CELLS_REP_c = 2000 #Cycle II\n",
    "N_CELLS_REP_i = 2000 #Cycle II\n",
    "N_MIX = 128\n",
    "N_BINS = 128\n",
    "FEATURES = ['FL1-H','FSC-H','SSC-H']#,'FL2-H','FL3-H','SSC-H','FL4-H'][0:job] #"
   ]
  },
  {
   "cell_type": "markdown",
   "metadata": {},
   "source": [
    "Load in simulated microbial community compositions: "
   ]
  },
  {
   "cell_type": "code",
   "execution_count": 3,
   "metadata": {},
   "outputs": [],
   "source": [
    "target = pd.read_csv('../Data/Metadata_Cycles.csv',index_col='FCM_ID')\n",
    "target = target.loc[target.loc[:,'Reactor cycle'] == 1]\n",
    "target_MV = pd.read_csv('../Data/Metadata_FCM_Cycles.csv', index_col='Sample name')\n",
    "target_MV = target_MV.loc[target_MV.loc[:,'Cycle'] == 1]"
   ]
  },
  {
   "cell_type": "markdown",
   "metadata": {},
   "source": [
    "Load OTU-table: "
   ]
  },
  {
   "cell_type": "code",
   "execution_count": 4,
   "metadata": {},
   "outputs": [],
   "source": [
    "otu_table = pd.read_table('../Data/OTU_table_Cycles.csv', index_col='Group', header=0, float_precision='high')\n",
    "otu_table = otu_table.loc[target.loc[:,'sample_title'].apply(str).values,:] \n",
    "otu_table.drop(['label','numOtus'], axis=1, inplace=True)\n",
    "otu_table = otu_table.iloc[:,:-1]\n",
    "otu_table.index = target.index\n",
    "otus = list(otu_table.columns)"
   ]
  },
  {
   "cell_type": "markdown",
   "metadata": {},
   "source": [
    "Determine $\\alpha$-diversity values: "
   ]
  },
  {
   "cell_type": "code",
   "execution_count": 5,
   "metadata": {},
   "outputs": [],
   "source": [
    "d0 = calc_D0(otu_table)   \n",
    "d1 = calc_D1(otu_table)\n",
    "d2 = calc_D2(otu_table)"
   ]
  },
  {
   "cell_type": "markdown",
   "metadata": {},
   "source": [
    "Determine $\\beta$-diversity values: "
   ]
  },
  {
   "cell_type": "code",
   "execution_count": 6,
   "metadata": {},
   "outputs": [],
   "source": [
    "bc_otu_table = pd.DataFrame(pairwise_distances(otu_table, metric='braycurtis'), index=otu_table.index, columns=otu_table.index)"
   ]
  },
  {
   "cell_type": "markdown",
   "metadata": {},
   "source": [
    "Create empty dataframes to store fingerprints, both for the FCM data for which we have 16S data, and for the ones it is missing (denoted with \"MV\":missing values). "
   ]
  },
  {
   "cell_type": "code",
   "execution_count": 7,
   "metadata": {},
   "outputs": [],
   "source": [
    "fcfp_final_gmm = pd.DataFrame()\n",
    "fcfp_MV_final_gmm = pd.DataFrame()\n",
    "fcfp_final_grid = pd.DataFrame()\n",
    "fcfp_MV_final_grid = pd.DataFrame()"
   ]
  },
  {
   "cell_type": "markdown",
   "metadata": {},
   "source": [
    "Concatenate all flow cytometry files in `PATH_DATA`: "
   ]
  },
  {
   "cell_type": "code",
   "execution_count": 8,
   "metadata": {},
   "outputs": [],
   "source": [
    "df = concat_df(target, N_CELLS_REP_c, PATH_DATA, FILENAMES)"
   ]
  },
  {
   "cell_type": "markdown",
   "metadata": {},
   "source": [
    "Transform the data by $f(x) = \\text{asinh}(x)$: "
   ]
  },
  {
   "cell_type": "code",
   "execution_count": 9,
   "metadata": {},
   "outputs": [],
   "source": [
    "df_trans = transform(df,FEATURES)"
   ]
  },
  {
   "cell_type": "markdown",
   "metadata": {},
   "source": [
    "Fit a Gaussian Mixture Model to the data: "
   ]
  },
  {
   "cell_type": "code",
   "execution_count": 10,
   "metadata": {},
   "outputs": [],
   "source": [
    "gmm = get_gmm_fitted(df_trans, FEATURES, N_MIX, TYPE, transform_bool=False)"
   ]
  },
  {
   "cell_type": "markdown",
   "metadata": {},
   "source": [
    "Retrieve fingerprints per sample using the fitted GMM and store them in one dataframe: "
   ]
  },
  {
   "cell_type": "code",
   "execution_count": 11,
   "metadata": {},
   "outputs": [],
   "source": [
    "fcfp_gmm = get_fcfp_gmm_rw(target, N_REP, N_CELLS_REP_i, N_MIX, FEATURES, gmm, True, PATH_DATA, FILENAMES)\n",
    "fcfp_gmm_MV = get_fcfp_gmm_rw(target_MV, N_REP, N_CELLS_REP_i, N_MIX, FEATURES, gmm, True, PATH_DATA, FILENAMES)"
   ]
  },
  {
   "cell_type": "markdown",
   "metadata": {},
   "source": [
    "Fit a grid to each bivariate combination of the channels: "
   ]
  },
  {
   "cell_type": "code",
   "execution_count": 12,
   "metadata": {},
   "outputs": [],
   "source": [
    "grids = get_binning_grid(df_trans,FEATURES,N_MIX,False,False)"
   ]
  },
  {
   "cell_type": "markdown",
   "metadata": {},
   "source": [
    "Retrieve fingerprints per sample using this collection of grids, vectorize the cell counts, and store them in one dataframe: "
   ]
  },
  {
   "cell_type": "code",
   "execution_count": 13,
   "metadata": {},
   "outputs": [],
   "source": [
    "fcfp_grid = get_fcfp_binning_grid_rw(target, N_REP, N_CELLS_REP_i, FEATURES, grids, True, False, PATH_DATA, FILENAMES)\n",
    "fcfp_grid_MV = get_fcfp_binning_grid_rw(target_MV, N_REP, N_CELLS_REP_i, FEATURES, grids, True, False, PATH_DATA, FILENAMES)"
   ]
  },
  {
   "cell_type": "markdown",
   "metadata": {},
   "source": [
    "Perform rapid $\\alpha$-diversity estimations, by applying the Hill-diversity formulas directly to the fingerprint data: "
   ]
  },
  {
   "cell_type": "code",
   "execution_count": 14,
   "metadata": {},
   "outputs": [],
   "source": [
    "D0_fcfp_gmm = calc_D0(fcfp_gmm)\n",
    "D1_fcfp_gmm = calc_D1(fcfp_gmm)\n",
    "D2_fcfp_gmm = calc_D2(fcfp_gmm)\n",
    "    \n",
    "D0_fcfp_grid = calc_D0(fcfp_grid)\n",
    "D1_fcfp_grid = calc_D1(fcfp_grid)\n",
    "D2_fcfp_grid = calc_D2(fcfp_grid)"
   ]
  },
  {
   "cell_type": "markdown",
   "metadata": {},
   "source": [
    "Calculate Kendall's $\\tau_B$ between cytometric and true $\\alpha$-diversity: "
   ]
  },
  {
   "cell_type": "code",
   "execution_count": 15,
   "metadata": {},
   "outputs": [],
   "source": [
    "k_uns_test_d0_gmm, p_k_uns_test_d0_gmm = stats.kendalltau(D0_fcfp_gmm,d0)\n",
    "k_uns_test_d1_gmm, p_k_uns_test_d1_gmm = stats.kendalltau(D1_fcfp_gmm,d1)\n",
    "k_uns_test_d2_gmm, p_k_uns_test_d2_gmm = stats.kendalltau(D2_fcfp_gmm,d2)\n",
    "\n",
    "k_uns_test_d0_grid, p_k_uns_test_d0_grid = stats.kendalltau(D0_fcfp_grid,d0)\n",
    "k_uns_test_d1_grid, p_k_uns_test_d1_grid = stats.kendalltau(D1_fcfp_grid,d1)\n",
    "k_uns_test_d2_grid, p_k_uns_test_d2_grid = stats.kendalltau(D2_fcfp_grid,d2)"
   ]
  },
  {
   "cell_type": "markdown",
   "metadata": {},
   "source": [
    "Values for $D_1$: "
   ]
  },
  {
   "cell_type": "code",
   "execution_count": 16,
   "metadata": {},
   "outputs": [
    {
     "name": "stdout",
     "output_type": "stream",
     "text": [
      "Kendall tau_B for PhenoGMM:0.453968253968\n",
      "P-value:9.7965749245e-05\n",
      "Kendall tau_B for PhenoGrid:0.552380952381\n",
      "P-value::2.13643175426e-06\n"
     ]
    }
   ],
   "source": [
    "print('Kendall tau_B for PhenoGMM:' + str(k_uns_test_d1_gmm))\n",
    "print('P-value:' + str(p_k_uns_test_d1_gmm))\n",
    "\n",
    "print('Kendall tau_B for PhenoGrid:' + str(k_uns_test_d1_grid))\n",
    "print('P-value::' + str(p_k_uns_test_d1_grid))"
   ]
  },
  {
   "cell_type": "code",
   "execution_count": 17,
   "metadata": {},
   "outputs": [
    {
     "data": {
      "text/plain": [
       "<matplotlib.axes._subplots.AxesSubplot at 0x7fc438d77358>"
      ]
     },
     "execution_count": 17,
     "metadata": {},
     "output_type": "execute_result"
    },
    {
     "data": {
      "image/png": "[encoded data removed]",
      "text/plain": [
       "<Figure size 432x288 with 1 Axes>"
      ]
     },
     "metadata": {
      "needs_background": "light"
     },
     "output_type": "display_data"
    }
   ],
   "source": [
    "d1_gmm = pd.DataFrame({'True':d1.iloc[:,0],'Predicted': D1_fcfp_gmm.iloc[:,0]}, index=d1.index)\n",
    "sns.regplot(x='True', y='Predicted', data=d1_gmm)"
   ]
  },
  {
   "cell_type": "code",
   "execution_count": 18,
   "metadata": {},
   "outputs": [
    {
     "data": {
      "text/plain": [
       "<matplotlib.axes._subplots.AxesSubplot at 0x7fc43d4bde80>"
      ]
     },
     "execution_count": 18,
     "metadata": {},
     "output_type": "execute_result"
    },
    {
     "data": {
      "image/png": "[encoded data removed]",
      "text/plain": [
       "<Figure size 432x288 with 1 Axes>"
      ]
     },
     "metadata": {
      "needs_background": "light"
     },
     "output_type": "display_data"
    }
   ],
   "source": [
    "d1_grid = pd.DataFrame({'True':d1.iloc[:,0],'Predicted': D1_fcfp_grid.iloc[:,0]}, index=d1.index)\n",
    "sns.regplot(x='True', y='Predicted', data=d1_grid)"
   ]
  },
  {
   "cell_type": "markdown",
   "metadata": {},
   "source": [
    "Calculate the $\\beta$-diversity between samples using the Bray-Curtis dissimilarity and correlate it with the true compositions using the mantel test: "
   ]
  },
  {
   "cell_type": "code",
   "execution_count": 19,
   "metadata": {},
   "outputs": [
    {
     "name": "stdout",
     "output_type": "stream",
     "text": [
      "Mantel correlation between PhenoGMM and True Beta-diversities:0.485354178726\n",
      "Mantel correlation between PhenoGrid and True Beta-diversities:0.574328086735\n"
     ]
    }
   ],
   "source": [
    "bc_fcfp_gmm = pd.DataFrame(pairwise_distances(fcfp_gmm, metric='braycurtis'), index=fcfp_gmm.index, columns=fcfp_gmm.index)\n",
    "bc_fcfp_grid = pd.DataFrame(pairwise_distances(fcfp_grid, metric='braycurtis'), index=fcfp_grid.index, columns=fcfp_grid.index)\n",
    "\n",
    "mantel_beta_div_gmm, p_mantel_beta_div_gmm = mantel_test(bc_otu_table, bc_fcfp_gmm)\n",
    "mantel_beta_div_grid, p_mantel_beta_div_grid = mantel_test(bc_otu_table, bc_fcfp_grid)\n",
    "\n",
    "print('Mantel correlation between PhenoGMM and True Beta-diversities:' + str(mantel_beta_div_gmm))\n",
    "print('Mantel correlation between PhenoGrid and True Beta-diversities:' + str(mantel_beta_div_grid))"
   ]
  },
  {
   "cell_type": "markdown",
   "metadata": {},
   "source": [
    "Predict $D_1$ using Random Forest regression based on the cytometric fingerprints: "
   ]
  },
  {
   "cell_type": "code",
   "execution_count": 20,
   "metadata": {},
   "outputs": [
    {
     "name": "stdout",
     "output_type": "stream",
     "text": [
      "R²(CV) for supervised estimations using PhenoGMM: 0.287911816392\n",
      "Kendall tau_B(CV) for supervised estimations using PhenoGMM: 0.511111111111\n",
      "P-value: 1.15492369703e-05\n",
      "R²(OOB) for supervised estimations using PhenoGMM: 0.317556914853\n",
      "Kendall tau_B(OOB) for supervised estimations using PhenoGMM: 0.533333333333\n",
      "P-value: 4.72547726543e-06\n"
     ]
    }
   ],
   "source": [
    "kcv = get_KFold(10, shuffle = False)\n",
    "fcfp_features_gmm = get_nonzero_features(fcfp_gmm)  \n",
    "rf_gmm = get_trained_RF(fcfp_gmm, d1.loc[fcfp_gmm.index].values.ravel(), fcfp_features_gmm, 200, 5, 50, kcv)\n",
    "preds_oob_gmm = rf_gmm.best_estimator_.oob_prediction_\n",
    "preds_cv_gmm = cross_val_predict(rf_gmm.best_estimator_, fcfp_gmm.loc[:,fcfp_features_gmm],d1.loc[fcfp_gmm.index].values.ravel(), cv=kcv)\n",
    "\n",
    "r2_cv_d1_gmm = r2_score(d1,preds_cv_gmm)\n",
    "k_cv_d1_gmm, p_k_cv_d1_gmm = stats.kendalltau(d1,preds_cv_gmm)\n",
    "D1_gmm_mv = rf_gmm.predict(fcfp_gmm_MV.loc[:,fcfp_features_gmm])\n",
    "D1_gmm_mv = pd.DataFrame(D1_gmm_mv, index=target_MV.index, columns=['D1_pred'])\n",
    "\n",
    "print('R²(CV) for supervised estimations using PhenoGMM: ' + str(r2_cv_d1_gmm))\n",
    "print('Kendall tau_B(CV) for supervised estimations using PhenoGMM: ' + str(k_cv_d1_gmm))\n",
    "print('P-value: ' + str(p_k_cv_d1_gmm))\n",
    "\n",
    "r2_oob_d1_gmm = r2_score(d1,preds_oob_gmm)\n",
    "k_oob_d1_gmm, p_k_oob_d1_gmm = stats.kendalltau(d1,preds_oob_gmm)\n",
    "print('R²(OOB) for supervised estimations using PhenoGMM: ' + str(r2_oob_d1_gmm))\n",
    "print('Kendall tau_B(OOB) for supervised estimations using PhenoGMM: ' + str(k_oob_d1_gmm))\n",
    "print('P-value: ' + str(p_k_oob_d1_gmm))"
   ]
  },
  {
   "cell_type": "code",
   "execution_count": 21,
   "metadata": {},
   "outputs": [
    {
     "name": "stdout",
     "output_type": "stream",
     "text": [
      "R²(CV) for supervised estimations using PhenoGrid: 0.145202562218\n",
      "Kendall tau_B(CV) for supervised estimations using PhenoGrid: 0.349206349206\n",
      "P-value: 0.00273011626331\n",
      "R²(OOB) for supervised estimations using PhenoGrid: 0.216659559345\n",
      "Kendall tau_B(OOB) for supervised estimations using PhenoGrid: 0.444444444444\n",
      "P-value: 0.000136818331627\n"
     ]
    }
   ],
   "source": [
    "kcv = get_KFold(10, shuffle=False)\n",
    "fcfp_features_grid = get_nonzero_features(fcfp_grid)  \n",
    "rf_grid = get_trained_RF(fcfp_grid, d1.values.ravel(), fcfp_features_grid, 200, 5, 50, kcv)\n",
    "preds_oob_grid = rf_grid.best_estimator_.oob_prediction_\n",
    "preds_cv_grid = cross_val_predict(rf_grid.best_estimator_, fcfp_grid.loc[:,fcfp_features_grid],d1.loc[fcfp_gmm.index].values.ravel(), cv=kcv)\n",
    "\n",
    "r2_cv_d1_grid = r2_score(d1,preds_cv_grid)\n",
    "k_cv_d1_grid, p_k_cv_d1_grid = stats.kendalltau(d1,preds_cv_grid)\n",
    "D1_grid_mv = rf_grid.predict(fcfp_grid_MV.loc[:,fcfp_features_grid])\n",
    "D1_grid_mv = pd.DataFrame(D1_grid_mv, index=target_MV.index, columns=['D1_pred'])\n",
    "\n",
    "print('R²(CV) for supervised estimations using PhenoGrid: ' + str(r2_cv_d1_grid))\n",
    "print('Kendall tau_B(CV) for supervised estimations using PhenoGrid: ' + str(k_cv_d1_grid))\n",
    "print('P-value: ' + str(p_k_cv_d1_grid))\n",
    "\n",
    "r2_oob_d1_grid = r2_score(d1,preds_oob_grid)\n",
    "k_oob_d1_grid, p_k_oob_d1_grid = stats.kendalltau(d1,preds_oob_grid)\n",
    "print('R²(OOB) for supervised estimations using PhenoGrid: ' + str(r2_oob_d1_grid))\n",
    "print('Kendall tau_B(OOB) for supervised estimations using PhenoGrid: ' + str(k_oob_d1_grid))\n",
    "print('P-value: ' + str(p_k_oob_d1_grid))"
   ]
  },
  {
   "cell_type": "code",
   "execution_count": 22,
   "metadata": {},
   "outputs": [
    {
     "data": {
      "text/plain": [
       "Text(0, 0.5, '$D_1$')"
      ]
     },
     "execution_count": 22,
     "metadata": {},
     "output_type": "execute_result"
    },
    {
     "data": {
      "image/png": "[encoded data removed]",
      "text/plain": [
       "<Figure size 432x288 with 1 Axes>"
      ]
     },
     "metadata": {
      "needs_background": "light"
     },
     "output_type": "display_data"
    }
   ],
   "source": [
    "booleanDictionary = {True: 'FCM', False: '16S'}\n",
    "target_MV.loc[:,'Sample'] = pd.isnull(target_MV.loc[:,'D1.tax'])\n",
    "target_MV.loc[:,'Sample'] = target_MV.loc[:,'Sample'].replace(booleanDictionary)\n",
    "target_MV.rename(columns={'Cycle':'Survey'}, inplace=True)\n",
    "target_MV = target_MV.loc[target_MV.loc[:,'Survey'] == 1]\n",
    "D1_gmm_mv.loc[:,'Time point (d)'] = target_MV.loc[D1_gmm_mv.index,'Time point (d)']\n",
    "D1_gmm_mv.loc[:,'Survey'] = 1\n",
    "\n",
    "fig, ax = plt.subplots()\n",
    "sns.regplot(x='Time point (d)',y='D1.tax', data=target_MV.loc[target_MV.loc[:,'Sample'] == '16S'], ax=ax, fit_reg=False, scatter_kws={'alpha':0.75})\n",
    "sns.regplot(x='Time point (d)', y='D1_pred', data=D1_gmm_mv, ax=ax, color='orange', fit_reg=False, scatter_kws={'alpha':0.75})\n",
    "ax.set_xlabel('Time point (d)',fontsize=18)\n",
    "ax.set_ylabel(r'$D_1$',fontsize=18)"
   ]
  }
 ],
 "metadata": {
  "kernelspec": {
   "display_name": "Python 3",
   "language": "python",
   "name": "python3"
  },
  "language_info": {
   "codemirror_mode": {
    "name": "ipython",
    "version": 3
   },
   "file_extension": ".py",
   "mimetype": "text/x-python",
   "name": "python",
   "nbconvert_exporter": "python",
   "pygments_lexer": "ipython3",
   "version": "3.6.8"
  }
 },
 "nbformat": 4,
 "nbformat_minor": 2
}
