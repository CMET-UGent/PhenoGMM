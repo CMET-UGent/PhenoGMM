{
 "cells": [
  {
   "cell_type": "markdown",
   "metadata": {},
   "source": [
    "Load required packages: "
   ]
  },
  {
   "cell_type": "code",
   "execution_count": 1,
   "metadata": {},
   "outputs": [],
   "source": [
    "import numpy as np\n",
    "import pandas as pd\n",
    "import seaborn as sns\n",
    "\n",
    "from os import listdir\n",
    "from scipy import stats\n",
    "from sklearn.metrics import pairwise_distances, r2_score\n",
    "\n",
    "from functions import calc_D0, calc_D1, calc_D2\n",
    "from functions import get_insilico_df\n",
    "from functions import get_gmm_fitted, get_fcfp_gmm\n",
    "from functions import get_binning_grid, get_fcfp_binning_grid\n",
    "from functions import get_KFold, get_trained_RF\n",
    "from functions import mantel_test\n",
    "from functions import transform        "
   ]
  },
  {
   "cell_type": "markdown",
   "metadata": {},
   "source": [
    "Initialize metavariables: "
   ]
  },
  {
   "cell_type": "code",
   "execution_count": 2,
   "metadata": {},
   "outputs": [],
   "source": [
    "''' Metavariables '''\n",
    "np.random.seed(np.int(2703))\n",
    "PATH_DATA = '../Data/Individual_Populations/'\n",
    "FILENAMES = listdir(PATH_DATA)\n",
    "MIN_SAMPLES_LEAF = 5 \n",
    "N_ITER = 10 #this value is 100 for the results in the paper\n",
    "N_REP = 2\n",
    "S = 20\n",
    "\n",
    "A = 1\n",
    "FEATURES = ['FL1-H','SSC-H','FSC-H']#'FL2-H','FL3-H','FL4-H'][0:3]\n",
    "N_CELLS_REP_c = 2500\n",
    "N_CELLS_REP_i = 2500\n",
    "N_MIX = 128\n",
    "N_SAMPLES = 300\n",
    "N_TREES = 200\n",
    "TYPE = 'full'#['full','tied','diag','spherical'][0]"
   ]
  },
  {
   "cell_type": "markdown",
   "metadata": {},
   "source": [
    "Load in simulated microbial community compositions: "
   ]
  },
  {
   "cell_type": "code",
   "execution_count": 3,
   "metadata": {},
   "outputs": [],
   "source": [
    "comp_train = pd.read_csv('../Files/Comp_train_a='+str(A)+'.csv', index_col=0, header=0) \n",
    "comp_test = pd.read_csv('../Files/Comp_test_a='+str(A)+'.csv', index_col=0, header=0) "
   ]
  },
  {
   "cell_type": "markdown",
   "metadata": {},
   "source": [
    "Determine $\\alpha$-diversity values: "
   ]
  },
  {
   "cell_type": "code",
   "execution_count": 4,
   "metadata": {},
   "outputs": [],
   "source": [
    "d0_train = calc_D0(comp_train)   \n",
    "d1_train = calc_D1(comp_train)\n",
    "d2_train = calc_D2(comp_train)\n",
    "\n",
    "d0_test = calc_D0(comp_test)   \n",
    "d1_test = calc_D1(comp_test)\n",
    "d2_test = calc_D2(comp_test)"
   ]
  },
  {
   "cell_type": "markdown",
   "metadata": {},
   "source": [
    "Determine $\\beta$-diversity values: "
   ]
  },
  {
   "cell_type": "code",
   "execution_count": 5,
   "metadata": {},
   "outputs": [],
   "source": [
    "bc_train_comp = pd.DataFrame(pairwise_distances(comp_train, metric='braycurtis'), index=comp_train.index, columns=comp_train.index)\n",
    "bc_test_comp = pd.DataFrame(pairwise_distances(comp_test, metric='braycurtis'), index=comp_test.index, columns=comp_test.index)"
   ]
  },
  {
   "cell_type": "markdown",
   "metadata": {},
   "source": [
    "Create _in silico_ microbial communities by sampling flow cytometry data according to the proportions in `comp_train` and `comp_test`:\n",
    "\n",
    "(note: this takes quite some time)"
   ]
  },
  {
   "cell_type": "code",
   "execution_count": 6,
   "metadata": {},
   "outputs": [],
   "source": [
    "df_train = get_insilico_df(PATH_DATA,FILENAMES,comp_train,N_CELLS_REP_c,N_REP)\n",
    "df_test = get_insilico_df(PATH_DATA,FILENAMES,comp_test,N_CELLS_REP_c,N_REP)"
   ]
  },
  {
   "cell_type": "markdown",
   "metadata": {},
   "source": [
    "Transform the data by $f(x) = \\text{asinh}(x)$: "
   ]
  },
  {
   "cell_type": "code",
   "execution_count": 7,
   "metadata": {},
   "outputs": [],
   "source": [
    "df_train_trans = transform(df_train,FEATURES)\n",
    "df_test_trans = transform(df_test,FEATURES)"
   ]
  },
  {
   "cell_type": "markdown",
   "metadata": {},
   "source": [
    "Fit a Gaussian Mixture Model to the data: "
   ]
  },
  {
   "cell_type": "code",
   "execution_count": 8,
   "metadata": {},
   "outputs": [],
   "source": [
    "gmm = get_gmm_fitted(df_train_trans, FEATURES, N_MIX, TYPE, transform_bool=False)"
   ]
  },
  {
   "cell_type": "markdown",
   "metadata": {},
   "source": [
    "Retrieve fingerprints per sample using the fitted GMM and store them in one dataframe: "
   ]
  },
  {
   "cell_type": "code",
   "execution_count": 9,
   "metadata": {},
   "outputs": [],
   "source": [
    "fcfp_train_gmm = get_fcfp_gmm(PATH_DATA,FILENAMES,comp_train,FEATURES,gmm,N_CELLS_REP_i,N_REP,N_MIX,True)\n",
    "fcfp_test_gmm = get_fcfp_gmm(PATH_DATA,FILENAMES,comp_test,FEATURES,gmm,N_CELLS_REP_i,N_REP,N_MIX,True) "
   ]
  },
  {
   "cell_type": "markdown",
   "metadata": {},
   "source": [
    "Fit a grid to each bivariate combination of the channels: "
   ]
  },
  {
   "cell_type": "code",
   "execution_count": 10,
   "metadata": {},
   "outputs": [],
   "source": [
    "grids = get_binning_grid(df_train_trans,FEATURES,N_MIX,False,False)"
   ]
  },
  {
   "cell_type": "markdown",
   "metadata": {},
   "source": [
    "Retrieve fingerprints per sample using this collection of grids, vectorize the cell counts, and store them in one dataframe: "
   ]
  },
  {
   "cell_type": "code",
   "execution_count": 11,
   "metadata": {},
   "outputs": [],
   "source": [
    "fcfp_train_grid = get_fcfp_binning_grid(PATH_DATA,FILENAMES,comp_train,FEATURES,grids,N_CELLS_REP_i,N_REP,False,True)\n",
    "fcfp_test_grid = get_fcfp_binning_grid(PATH_DATA,FILENAMES,comp_test,FEATURES,grids,N_CELLS_REP_i,N_REP,False,True) "
   ]
  },
  {
   "cell_type": "markdown",
   "metadata": {},
   "source": [
    "Perform rapid $\\alpha$-diversity estimations, by applying the Hill-diversity formulas directly to the fingerprint data: "
   ]
  },
  {
   "cell_type": "code",
   "execution_count": 12,
   "metadata": {},
   "outputs": [],
   "source": [
    "D0_test_fcfp_gmm = calc_D0(fcfp_test_gmm)\n",
    "D1_test_fcfp_gmm = calc_D1(fcfp_test_gmm)\n",
    "D2_test_fcfp_gmm = calc_D2(fcfp_test_gmm)\n",
    "    \n",
    "D0_test_fcfp_grid = calc_D0(fcfp_test_grid)\n",
    "D1_test_fcfp_grid = calc_D1(fcfp_test_grid)\n",
    "D2_test_fcfp_grid = calc_D2(fcfp_test_grid)"
   ]
  },
  {
   "cell_type": "markdown",
   "metadata": {},
   "source": [
    "Calculate Kendall's $\\tau_B$ between cytometric and true $\\alpha$-diversity: "
   ]
  },
  {
   "cell_type": "code",
   "execution_count": 13,
   "metadata": {},
   "outputs": [],
   "source": [
    "k_uns_test_d0_gmm, p_k_uns_test_d0_gmm = stats.kendalltau(D0_test_fcfp_gmm,d0_test)\n",
    "k_uns_test_d1_gmm, p_k_uns_test_d1_gmm = stats.kendalltau(D1_test_fcfp_gmm,d1_test)\n",
    "k_uns_test_d2_gmm, p_k_uns_test_d2_gmm = stats.kendalltau(D2_test_fcfp_gmm,d2_test)\n",
    "\n",
    "k_uns_test_d0_grid, p_k_uns_test_d0_grid = stats.kendalltau(D0_test_fcfp_grid,d0_test)\n",
    "k_uns_test_d1_grid, p_k_uns_test_d1_grid = stats.kendalltau(D1_test_fcfp_grid,d1_test)\n",
    "k_uns_test_d2_grid, p_k_uns_test_d2_grid = stats.kendalltau(D2_test_fcfp_grid,d2_test)"
   ]
  },
  {
   "cell_type": "markdown",
   "metadata": {},
   "source": [
    "Values for $D_1$: "
   ]
  },
  {
   "cell_type": "code",
   "execution_count": 14,
   "metadata": {},
   "outputs": [
    {
     "name": "stdout",
     "output_type": "stream",
     "text": [
      "Kendall tau_B for PhenoGMM:0.431515151515\n",
      "P-value:2.00108699414e-10\n",
      "Kendall tau_B for PhenoGrid:0.146666666667\n",
      "P-value::0.0306094835826\n"
     ]
    }
   ],
   "source": [
    "print('Kendall tau_B for PhenoGMM:' + str(k_uns_test_d1_gmm))\n",
    "print('P-value:' + str(p_k_uns_test_d1_gmm))\n",
    "\n",
    "print('Kendall tau_B for PhenoGrid:' + str(k_uns_test_d1_grid))\n",
    "print('P-value::' + str(p_k_uns_test_d1_grid))"
   ]
  },
  {
   "cell_type": "code",
   "execution_count": 16,
   "metadata": {},
   "outputs": [
    {
     "data": {
      "text/plain": [
       "<matplotlib.axes._subplots.AxesSubplot at 0x7f949957eac8>"
      ]
     },
     "execution_count": 16,
     "metadata": {},
     "output_type": "execute_result"
    },
    {
     "data": {
      "image/png": "[encoded data removed]",
      "text/plain": [
       "<Figure size 432x288 with 1 Axes>"
      ]
     },
     "metadata": {
      "needs_background": "light"
     },
     "output_type": "display_data"
    }
   ],
   "source": [
    "d1_gmm = pd.DataFrame({'True':d1_test.iloc[:,0],'Predicted': D1_test_fcfp_gmm.iloc[:,0]}, index=d1_test.index)\n",
    "sns.regplot(x='True', y='Predicted', data=d1_gmm)"
   ]
  },
  {
   "cell_type": "code",
   "execution_count": 17,
   "metadata": {},
   "outputs": [
    {
     "data": {
      "text/plain": [
       "<matplotlib.axes._subplots.AxesSubplot at 0x7f949a0e68d0>"
      ]
     },
     "execution_count": 17,
     "metadata": {},
     "output_type": "execute_result"
    },
    {
     "data": {
      "image/png": "[encoded data removed]",
      "text/plain": [
       "<Figure size 432x288 with 1 Axes>"
      ]
     },
     "metadata": {
      "needs_background": "light"
     },
     "output_type": "display_data"
    }
   ],
   "source": [
    "d1_grid = pd.DataFrame({'True':d1_test.iloc[:,0],'Predicted': D1_test_fcfp_grid.iloc[:,0]}, index=d1_test.index)\n",
    "sns.regplot(x='True', y='Predicted', data=d1_grid)"
   ]
  },
  {
   "cell_type": "markdown",
   "metadata": {},
   "source": [
    "Calculate the $\\beta$-diversity between samples using the Bray-Curtis dissimilarity and correlate it with the true compositions using the mantel test: "
   ]
  },
  {
   "cell_type": "code",
   "execution_count": 18,
   "metadata": {},
   "outputs": [
    {
     "name": "stdout",
     "output_type": "stream",
     "text": [
      "Mantel correlation between PhenoGMM and True Beta-diversities:0.61879590807\n",
      "Mantel correlation between PhenoGrid and True Beta-diversities:0.515408023232\n"
     ]
    }
   ],
   "source": [
    "bc_test_fcfp_gmm = pd.DataFrame(pairwise_distances(fcfp_test_gmm, metric='braycurtis'), index=fcfp_test_gmm.index, columns=fcfp_test_gmm.index)\n",
    "bc_test_fcfp_grid = pd.DataFrame(pairwise_distances(fcfp_test_grid, metric='braycurtis'), index=fcfp_test_grid.index, columns=fcfp_test_grid.index)\n",
    "\n",
    "mantel_beta_div_test_gmm, p_mantel_beta_div_test_gmm = mantel_test(bc_test_comp, bc_test_fcfp_gmm)\n",
    "mantel_beta_div_test_grid, p_mantel_beta_div_test_grid = mantel_test(bc_test_comp, bc_test_fcfp_grid)\n",
    "\n",
    "print('Mantel correlation between PhenoGMM and True Beta-diversities:' + str(mantel_beta_div_test_gmm))\n",
    "print('Mantel correlation between PhenoGrid and True Beta-diversities:' + str(mantel_beta_div_test_grid))"
   ]
  },
  {
   "cell_type": "markdown",
   "metadata": {},
   "source": [
    "Predict $D_1$ using Random Forest regression based on the cytometric fingerprints: "
   ]
  },
  {
   "cell_type": "code",
   "execution_count": 19,
   "metadata": {},
   "outputs": [
    {
     "name": "stdout",
     "output_type": "stream",
     "text": [
      "R² for supervised estimations using PhenoGMM: 0.600501537708\n",
      "Kendall tau_B for supervised estimations using PhenoGMM: 0.608080808081\n",
      "P-value: 3.12735552223e-19\n"
     ]
    }
   ],
   "source": [
    "kcv = get_KFold(5)\n",
    "rf_gmm = get_trained_RF(fcfp_train_gmm, d1_train.values.ravel(), fcfp_train_gmm.columns, N_TREES, MIN_SAMPLES_LEAF, N_ITER, kcv)\n",
    "preds_test_gmm = rf_gmm.predict(fcfp_test_gmm)\n",
    "r2_test_d1_gmm = r2_score(d1_test,preds_test_gmm)\n",
    "k_test_d1_gmm, p_k_test_d1_gmm = stats.kendalltau(d1_test,preds_test_gmm)\n",
    "\n",
    "print('R² for supervised estimations using PhenoGMM: ' + str(r2_test_d1_gmm))\n",
    "print('Kendall tau_B for supervised estimations using PhenoGMM: ' + str(k_test_d1_gmm))\n",
    "print('P-value: ' + str(p_k_test_d1_gmm))"
   ]
  },
  {
   "cell_type": "code",
   "execution_count": 20,
   "metadata": {},
   "outputs": [
    {
     "data": {
      "text/plain": [
       "<matplotlib.axes._subplots.AxesSubplot at 0x7f94995ac5f8>"
      ]
     },
     "execution_count": 20,
     "metadata": {},
     "output_type": "execute_result"
    },
    {
     "data": {
      "image/png": "[encoded data removed]",
      "text/plain": [
       "<Figure size 432x288 with 1 Axes>"
      ]
     },
     "metadata": {
      "needs_background": "light"
     },
     "output_type": "display_data"
    }
   ],
   "source": [
    "pred_gmm = pd.DataFrame({'True':d1_test.iloc[:,0],'Predicted': preds_test_gmm}, index=d1_test.index)\n",
    "sns.regplot(x='True', y='Predicted', data=pred_gmm)"
   ]
  },
  {
   "cell_type": "code",
   "execution_count": 21,
   "metadata": {},
   "outputs": [
    {
     "name": "stdout",
     "output_type": "stream",
     "text": [
      "R² for supervised estimations using PhenoGrid: 0.56420908496\n",
      "Kendall tau_B for supervised estimations using PhenoGrid: 0.659797979798\n",
      "P-value: 2.32386495064e-22\n"
     ]
    }
   ],
   "source": [
    "rf_grid = get_trained_RF(fcfp_train_grid, d1_train.values.ravel(), fcfp_train_grid.columns, N_TREES, MIN_SAMPLES_LEAF, N_ITER, kcv)\n",
    "preds_test_grid = rf_grid.predict(fcfp_test_grid)\n",
    "r2_test_d1_grid = r2_score(d1_test,preds_test_grid)\n",
    "k_test_d1_grid, p_k_test_d1_grid = stats.kendalltau(d1_test,preds_test_grid)\n",
    "\n",
    "print('R² for supervised estimations using PhenoGrid: ' + str(r2_test_d1_grid))\n",
    "print('Kendall tau_B for supervised estimations using PhenoGrid: ' + str(k_test_d1_grid))\n",
    "print('P-value: ' + str(p_k_test_d1_grid))"
   ]
  },
  {
   "cell_type": "code",
   "execution_count": 22,
   "metadata": {},
   "outputs": [
    {
     "data": {
      "text/plain": [
       "<matplotlib.axes._subplots.AxesSubplot at 0x7f9493667518>"
      ]
     },
     "execution_count": 22,
     "metadata": {},
     "output_type": "execute_result"
    },
    {
     "data": {
      "image/png": "[encoded data removed]",
      "text/plain": [
       "<Figure size 432x288 with 1 Axes>"
      ]
     },
     "metadata": {
      "needs_background": "light"
     },
     "output_type": "display_data"
    }
   ],
   "source": [
    "pred_grid = pd.DataFrame({'True':d1_test.iloc[:,0],'Predicted': preds_test_grid}, index=d1_test.index)\n",
    "sns.regplot(x='True', y='Predicted', data=pred_grid)"
   ]
  }
 ],
 "metadata": {
  "kernelspec": {
   "display_name": "Python 3",
   "language": "python",
   "name": "python3"
  },
  "language_info": {
   "codemirror_mode": {
    "name": "ipython",
    "version": 3
   },
   "file_extension": ".py",
   "mimetype": "text/x-python",
   "name": "python",
   "nbconvert_exporter": "python",
   "pygments_lexer": "ipython3",
   "version": "3.6.8"
  }
 },
 "nbformat": 4,
 "nbformat_minor": 2
}
